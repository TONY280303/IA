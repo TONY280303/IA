{
  "nbformat": 4,
  "nbformat_minor": 0,
  "metadata": {
    "colab": {
      "provenance": [],
      "authorship_tag": "ABX9TyOngEAqrKvy7Q6NFqhuUdme",
      "include_colab_link": true
    },
    "kernelspec": {
      "name": "python3",
      "display_name": "Python 3"
    },
    "language_info": {
      "name": "python"
    }
  },
  "cells": [
    {
      "cell_type": "markdown",
      "metadata": {
        "id": "view-in-github",
        "colab_type": "text"
      },
      "source": [
        "<a href=\"https://colab.research.google.com/github/TONY280303/IA/blob/main/pythonexercises.ipynb\" target=\"_parent\"><img src=\"https://colab.research.google.com/assets/colab-badge.svg\" alt=\"Open In Colab\"/></a>"
      ]
    },
    {
      "cell_type": "markdown",
      "source": [
        "**STUDENT NAME:** Gonzalo Antonio Rodriguez Garcia\n",
        "\n",
        "**STUDENT ID:** 1949767\n",
        "\n",
        "**HOUR:** N3-N5\n",
        "\n",
        "**CLASS DAY:** THURSDAY"
      ],
      "metadata": {
        "id": "3giDn8sKoKsr"
      }
    },
    {
      "cell_type": "markdown",
      "source": [
        "***Exercise 1***\n",
        "\n",
        "***Text Analysis Tool:***\n",
        "\n",
        " Create a Python program that reads a text file and performs various analyses on its content. The program should: Count the number of words, sentences, and paragraphs. Calculate the average word length. Identify the most common words and their frequencies."
      ],
      "metadata": {
        "id": "GMO27oHlp1gf"
      }
    },
    {
      "cell_type": "code",
      "source": [
        "import re\n",
        "\n",
        "text = input(\"Introduce the text you want to analize\\n\")\n",
        "\n",
        "words = text.split()\n",
        "n_words = len(words)\n",
        "\n",
        "phrases = re.split(r'[.!?]', text)\n",
        "n_phrases = len(phrases)\n",
        "\n",
        "paragraphs = re.split(r'\\n', text)\n",
        "n_paragraphs = len(paragraphs)\n",
        "\n",
        "rwords = text.split()\n",
        "u_words = set(rwords)\n",
        "f_words = {}\n",
        "for word in u_words:\n",
        "  frec = rwords.count(word)\n",
        "  f_words[word] = frec\n",
        "\n",
        "print(f\"\\nThe number of words are: {n_words}\\n\")\n",
        "print(f\"The number of phrases are: {n_phrases}\\n\")\n",
        "print(f\"The number of paragraphs are: {n_paragraphs}\\n\")\n",
        "print(f\"F R E C U E N C Y   O F   E A C H   W O R D\\n\")\n",
        "for word, frec in f_words.items():\n",
        "   print(f\"'{word}': {frec}\")"
      ],
      "metadata": {
        "colab": {
          "base_uri": "https://localhost:8080/"
        },
        "id": "BdcQ3YV6qA7Z",
        "outputId": "b9f772a5-4fd3-4a32-8b6c-bbc215db1e49"
      },
      "execution_count": 1,
      "outputs": [
        {
          "output_type": "stream",
          "name": "stdout",
          "text": [
            "Introduce the text you want to analize\n",
            "Eres el mejor\n",
            "\n",
            "The number of words are: 3\n",
            "\n",
            "The number of phrases are: 1\n",
            "\n",
            "The number of paragraphs are: 1\n",
            "\n",
            "F R E C U E N C Y   O F   E A C H   W O R D\n",
            "\n",
            "'el': 1\n",
            "'Eres': 1\n",
            "'mejor': 1\n"
          ]
        }
      ]
    },
    {
      "cell_type": "markdown",
      "source": [
        "***Exercise 2***\n",
        "\n",
        "***Hangman Game:***\n",
        "\n",
        "Create a Python program that allows a user to play the game of Hangman. The program should randomly select a word from a predefined list, and the player must guess letters one at a time until they guess the word correctly or run out of attempts."
      ],
      "metadata": {
        "id": "zgGf1hThqvX7"
      }
    },
    {
      "cell_type": "code",
      "source": [
        "import random\n",
        "\n",
        "dictionary = [\"apple\", \"banana\", \"cat\", \"dog\", \"elephant\", \"fox\", \"grape\", \"hat\", \"icecream\", \"jellyfish\", \"kangaroo\", \"lion\", \"monkey\", \"newt\", \"orange\", \"penguin\", \"quokka\", \"rabbit\", \"snake\", \"tiger\", \"umbrella\", \"violin\", \"whale\", \"xylophone\", \"yak\", \"zebra\"]\n",
        "\n",
        "rndm_w = random.choice(dictionary)\n",
        "\n",
        "spaces = [\"_\"] * len(rndm_w)\n",
        "\n",
        "attempts = 0\n",
        "max_attms = 7\n",
        "max_a = 6\n",
        "while True:\n",
        "    if attempts >= max_attms:\n",
        "        print(f\"You are out of attempts, you died X_X, the answer is: {rndm_w}\")\n",
        "        break\n",
        "\n",
        "    print(\"Progress:\", \" \".join(spaces))\n",
        "\n",
        "    letter = input(\"Type a letter: \").lower()\n",
        "\n",
        "    if letter in rndm_w:\n",
        "        print(\"You are closser to the salvation.\")\n",
        "        for i in range(len(rndm_w)):\n",
        "            if rndm_w[i] == letter:\n",
        "                spaces[i] = letter\n",
        "    else:\n",
        "        print(f\"Wrong letter, you have {max_a} more attempts.\")\n",
        "        attempts += 1\n",
        "        max_a -=1\n",
        "\n",
        "    if \"\".join(spaces) == rndm_w:\n",
        "        print(f\"Congratulations!, you are safe and sound... A = {rndm_w}\")\n",
        "        break"
      ],
      "metadata": {
        "colab": {
          "base_uri": "https://localhost:8080/"
        },
        "id": "8XKgLbonq43q",
        "outputId": "af0e9277-d1cb-415f-8a8b-188ee8ee3730"
      },
      "execution_count": 2,
      "outputs": [
        {
          "output_type": "stream",
          "name": "stdout",
          "text": [
            "Progress: _ _ _\n",
            "Type a letter: h\n",
            "Wrong letter, you have 6 more attempts.\n",
            "Progress: _ _ _\n",
            "Type a letter: f\n",
            "Wrong letter, you have 5 more attempts.\n",
            "Progress: _ _ _\n",
            "Type a letter: d\n",
            "You are closser to the salvation.\n",
            "Progress: d _ _\n",
            "Type a letter: o\n",
            "You are closser to the salvation.\n",
            "Progress: d o _\n",
            "Type a letter: g\n",
            "You are closser to the salvation.\n",
            "Congratulations!, you are safe and sound... A = dog\n"
          ]
        }
      ]
    },
    {
      "cell_type": "markdown",
      "source": [
        "***Exercise 3***\n",
        "\n",
        "***Number Guessing Game:***\n",
        "\n",
        "Create a program that generates a random number between 1 and 100, and then asks the user to guess the number. The program should provide hints to the user if the guessed number is greater or less than the target number, and keep asking for a new guess until the user guesses correctly."
      ],
      "metadata": {
        "id": "1EUM0w9urxTm"
      }
    },
    {
      "cell_type": "code",
      "source": [
        "import random\n",
        "\n",
        "target_number = random.randint(1, 100)\n",
        "\n",
        "attempts = 0\n",
        "\n",
        "print(\"Welcome to the Number Guessing Game!\")\n",
        "\n",
        "while True:\n",
        "    user_guess = int(input(\"Guess the number between 1 and 100: \"))\n",
        "\n",
        "    attempts += 1\n",
        "\n",
        "    if user_guess == target_number:\n",
        "        print(f\"Congratulations! You guessed the number {target_number} correctly in {attempts} attempts.\")\n",
        "        break\n",
        "    elif user_guess < target_number:\n",
        "        print(\"The target number is higher. Try again.\")\n",
        "    else:\n",
        "        print(\"The target number is lower. Try again.\")\n",
        "\n"
      ],
      "metadata": {
        "colab": {
          "base_uri": "https://localhost:8080/"
        },
        "id": "jRTdEIy1r6CU",
        "outputId": "d453d61e-6d48-4c86-e107-1a17d1b095e2"
      },
      "execution_count": 3,
      "outputs": [
        {
          "output_type": "stream",
          "name": "stdout",
          "text": [
            "Welcome to the Number Guessing Game!\n",
            "Guess the number between 1 and 100: 6\n",
            "The target number is higher. Try again.\n",
            "Guess the number between 1 and 100: 98\n",
            "The target number is lower. Try again.\n",
            "Guess the number between 1 and 100: 59\n",
            "The target number is lower. Try again.\n",
            "Guess the number between 1 and 100: 78\n",
            "The target number is lower. Try again.\n",
            "Guess the number between 1 and 100: 89\n",
            "The target number is lower. Try again.\n",
            "Guess the number between 1 and 100: 90\n",
            "The target number is lower. Try again.\n",
            "Guess the number between 1 and 100: 45\n",
            "The target number is lower. Try again.\n",
            "Guess the number between 1 and 100: 23\n",
            "The target number is lower. Try again.\n",
            "Guess the number between 1 and 100: 15\n",
            "The target number is higher. Try again.\n",
            "Guess the number between 1 and 100: 16\n",
            "Congratulations! You guessed the number 16 correctly in 10 attempts.\n"
          ]
        }
      ]
    }
  ]
}